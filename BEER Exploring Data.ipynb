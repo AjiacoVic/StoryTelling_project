{
 "cells": [
  {
   "cell_type": "markdown",
   "metadata": {},
   "source": [
    "# EXPLORING THE DATA"
   ]
  },
  {
   "cell_type": "code",
   "execution_count": 1,
   "metadata": {},
   "outputs": [],
   "source": [
    "import pandas as pd\n",
    "import numpy as np\n",
    "import seaborn as sns\n",
    "import matplotlib.pyplot as plt\n",
    "import pymysql\n",
    "from sqlalchemy import create_engine"
   ]
  },
  {
   "cell_type": "code",
   "execution_count": null,
   "metadata": {},
   "outputs": [],
   "source": [
    "'''The first I noticed when I arrive in Holland was : hey! The Dutch sure like their beer!\n",
    "Ofcourse, I could only thank Heineken for that so far...\n",
    "the second thing I noticed was their terrible weather... How can they \n",
    "even go outside, and most importantly, how can they drink their beer!\n",
    "(I certainly need sun for that!)\n",
    "So, I could help but wonder about the average 'Kees/Dieuwertje' drinking\n",
    "behavior and wanted to see if I could find better understand it with data\n",
    "\n",
    "First, let's look at the place of Beer in the Dutch total alcoholic beverage consumption\n",
    "'''"
   ]
  },
  {
   "cell_type": "markdown",
   "metadata": {},
   "source": [
    "## PLACE OF BEER AMONG ALCOHOLIC DRINKS IN NL"
   ]
  },
  {
   "cell_type": "code",
   "execution_count": 3,
   "metadata": {},
   "outputs": [
    {
     "data": {
      "text/html": [
       "<div>\n",
       "<style scoped>\n",
       "    .dataframe tbody tr th:only-of-type {\n",
       "        vertical-align: middle;\n",
       "    }\n",
       "\n",
       "    .dataframe tbody tr th {\n",
       "        vertical-align: top;\n",
       "    }\n",
       "\n",
       "    .dataframe thead th {\n",
       "        text-align: right;\n",
       "    }\n",
       "</style>\n",
       "<table border=\"1\" class=\"dataframe\">\n",
       "  <thead>\n",
       "    <tr style=\"text-align: right;\">\n",
       "      <th></th>\n",
       "      <th>Entity</th>\n",
       "      <th>Year</th>\n",
       "      <th>Wine_pct_total_alcohol</th>\n",
       "      <th>Beer_pct_total_alcohol</th>\n",
       "      <th>Spirits_pct_total_alcohol</th>\n",
       "    </tr>\n",
       "  </thead>\n",
       "  <tbody>\n",
       "    <tr>\n",
       "      <th>0</th>\n",
       "      <td>Netherlands</td>\n",
       "      <td>1964</td>\n",
       "      <td>9</td>\n",
       "      <td>48</td>\n",
       "      <td>43</td>\n",
       "    </tr>\n",
       "    <tr>\n",
       "      <th>1</th>\n",
       "      <td>Netherlands</td>\n",
       "      <td>1984</td>\n",
       "      <td>22</td>\n",
       "      <td>49</td>\n",
       "      <td>29</td>\n",
       "    </tr>\n",
       "    <tr>\n",
       "      <th>2</th>\n",
       "      <td>Netherlands</td>\n",
       "      <td>2014</td>\n",
       "      <td>35</td>\n",
       "      <td>48</td>\n",
       "      <td>17</td>\n",
       "    </tr>\n",
       "  </tbody>\n",
       "</table>\n",
       "</div>"
      ],
      "text/plain": [
       "        Entity  Year  Wine_pct_total_alcohol  Beer_pct_total_alcohol  \\\n",
       "0  Netherlands  1964                       9                      48   \n",
       "1  Netherlands  1984                      22                      49   \n",
       "2  Netherlands  2014                      35                      48   \n",
       "\n",
       "   Spirits_pct_total_alcohol  \n",
       "0                         43  \n",
       "1                         29  \n",
       "2                         17  "
      ]
     },
     "execution_count": 3,
     "metadata": {},
     "output_type": "execute_result"
    }
   ],
   "source": [
    "#Read\n",
    "share = pd.read_csv('data/share_beer.csv')\n",
    "share.head()\n"
   ]
  },
  {
   "cell_type": "code",
   "execution_count": null,
   "metadata": {},
   "outputs": [],
   "source": [
    "#Plot"
   ]
  },
  {
   "cell_type": "code",
   "execution_count": null,
   "metadata": {},
   "outputs": [],
   "source": [
    "#Analysis\n",
    "''' I took 3 years as reference, parted by 20 years to anlayze the share \n",
    "of the beer consumption in The Netherlands throughout the years.\n",
    "This indication is not per capita but tells the proportion\n",
    "of beer consumption among the total alcoholic beverage consumption\n",
    "The original source presents these trends as 5-year averages 64, 84 and 2014 being the last year\n",
    "of the range\n",
    "\n",
    "These proportions shows that whilst the Total consumption of Wine seems to present an increase, and \n",
    "the cnsumption of Spirits a decrease, the share of beer consumption seem quite \n",
    "the same in The Netherlands. This supports the original thought about the Dutch 'liking their beer'\n",
    "\n",
    "Let's looks further into the possible reasons that can makes us better understand the Dutch\n",
    "beer-drinking pattern'''"
   ]
  },
  {
   "cell_type": "code",
   "execution_count": null,
   "metadata": {},
   "outputs": [],
   "source": [
    "#Transition line\n",
    "''' \n",
    "'''"
   ]
  },
  {
   "cell_type": "code",
   "execution_count": null,
   "metadata": {},
   "outputs": [],
   "source": [
    "# CONSUMPTION vs. WEATHER"
   ]
  },
  {
   "cell_type": "code",
   "execution_count": null,
   "metadata": {},
   "outputs": [],
   "source": [
    "#Read\n"
   ]
  },
  {
   "cell_type": "code",
   "execution_count": null,
   "metadata": {},
   "outputs": [],
   "source": [
    "#Plot\n"
   ]
  },
  {
   "cell_type": "code",
   "execution_count": null,
   "metadata": {},
   "outputs": [],
   "source": [
    "#Analysis"
   ]
  },
  {
   "cell_type": "code",
   "execution_count": null,
   "metadata": {},
   "outputs": [],
   "source": [
    "#Transition line:\n",
    "#But are the Dutch 'close to money' because.. 'Het geld groeit niet op mijn rug'"
   ]
  },
  {
   "cell_type": "code",
   "execution_count": null,
   "metadata": {},
   "outputs": [],
   "source": [
    "# QUICK ANALYSIS ABOUT PRICES"
   ]
  },
  {
   "cell_type": "code",
   "execution_count": null,
   "metadata": {},
   "outputs": [],
   "source": [
    "#Read"
   ]
  },
  {
   "cell_type": "code",
   "execution_count": null,
   "metadata": {},
   "outputs": [],
   "source": [
    "#Plot"
   ]
  },
  {
   "cell_type": "code",
   "execution_count": null,
   "metadata": {},
   "outputs": [],
   "source": [
    "#Analysis"
   ]
  },
  {
   "cell_type": "code",
   "execution_count": null,
   "metadata": {},
   "outputs": [],
   "source": [
    "# CONSUMPTION vs. UNEMPLOYMENT"
   ]
  },
  {
   "cell_type": "code",
   "execution_count": null,
   "metadata": {},
   "outputs": [],
   "source": [
    "#Read"
   ]
  },
  {
   "cell_type": "code",
   "execution_count": null,
   "metadata": {},
   "outputs": [],
   "source": [
    "#Plot"
   ]
  },
  {
   "cell_type": "code",
   "execution_count": null,
   "metadata": {},
   "outputs": [],
   "source": [
    "#Analysis\n",
    "\n",
    "\n",
    "\n",
    "total = unemp_rate.loc[(unemp_rate['Gender']== 'Mannen en vrouwen')]\n",
    "total['Pct'].max()\n",
    "total['Pct'].mean()\n",
    "unemp_rate.loc[(unemp_rate['Gender']=='Mannen en vrouwen')&(unemp_rate['Pct']> 5)"
   ]
  },
  {
   "cell_type": "code",
   "execution_count": null,
   "metadata": {},
   "outputs": [],
   "source": []
  },
  {
   "cell_type": "code",
   "execution_count": null,
   "metadata": {},
   "outputs": [],
   "source": []
  },
  {
   "cell_type": "code",
   "execution_count": null,
   "metadata": {},
   "outputs": [],
   "source": [
    "#I am looking to see where can I spot where the max amount of beer was consumed.\n",
    "#It seems to be around the year 1980\n",
    "\n",
    "BC_max = dataNL['BeerConsumption'].max()\n",
    "dataNL.loc[dataNL['BeerConsumption']==BC_max]\n",
    "\n",
    "#I am checking what the reasons for this could be, Can it be due to the weather?\n",
    "#and why does it seem to decrease rapidly and then decrease slowly\n",
    "\n",
    "#Average temperature is high but not the highest. AVG Temp winter is by far not the lowest\n",
    "#cn this be the reason?"
   ]
  },
  {
   "cell_type": "code",
   "execution_count": null,
   "metadata": {},
   "outputs": [],
   "source": [
    "#is definitely not the mildest winter\n",
    "Winter_max = dataNL['Winter_min'].max()\n",
    "dataNL.loc[dataNL['Winter_min']==Winter_max]"
   ]
  },
  {
   "cell_type": "code",
   "execution_count": null,
   "metadata": {},
   "outputs": [],
   "source": [
    "## PLOTTING "
   ]
  },
  {
   "cell_type": "code",
   "execution_count": null,
   "metadata": {},
   "outputs": [],
   "source": [
    "dataNL.set_index('Year')['BeerConsumption'].plot()\n",
    "\n",
    "#1980 Beatrix coronation -Worst manifestations the country has had(during peace times) \n",
    "#1960-75 economic boom after the war until oil crisis\n",
    "#oil crisis 73-79 =>'plateau' from 1975\n",
    "#1982 NL not in the world cup => not reflected hier\n",
    "#1981 NL in worldcup but not reflected hier \n",
    "#oil crisis 2008\n",
    "\n",
    "\n",
    "#taux de chomage "
   ]
  },
  {
   "cell_type": "code",
   "execution_count": null,
   "metadata": {},
   "outputs": [],
   "source": [
    "dataNL.set_index('Year')['AVGTemp_Year'].plot()\n",
    "#Doesn't seem to have any direct relation"
   ]
  },
  {
   "cell_type": "code",
   "execution_count": null,
   "metadata": {},
   "outputs": [],
   "source": [
    "dataNL.set_index('Year')['AVGTemp_Summer'].plot()\n",
    "#Seems to have a positive correlation but is it enough?"
   ]
  },
  {
   "cell_type": "code",
   "execution_count": null,
   "metadata": {},
   "outputs": [],
   "source": [
    "#Does weather and most specifically summer have an influence in dutch beer consumption?\n",
    "#--> HYPOTHESIS TESTING\n",
    "\n",
    "#--> having had seasonal data for beer consumption would have been nice :)"
   ]
  },
  {
   "cell_type": "code",
   "execution_count": null,
   "metadata": {},
   "outputs": [],
   "source": [
    "dataNL.columns"
   ]
  },
  {
   "cell_type": "code",
   "execution_count": null,
   "metadata": {},
   "outputs": [],
   "source": [
    "dataNL['AVGTemp_Year'].corr(dataNL['BeerConsumption']) \n",
    "dataNL['AVGTemp_Winter'].corr(dataNL['BeerConsumption']) \n",
    "dataNL['AVGTemp_Summer'].corr(dataNL['BeerConsumption']) \n",
    "dataNL['Summer_max'].corr(dataNL['BeerConsumption']) \n",
    "dataNL['Winter_min'].corr(dataNL['BeerConsumption'])\n",
    "dataNL['Qty_precipitation'].corr(dataNL['BeerConsumption']) \n",
    "dataNL['Nb_SummerDays'].corr(dataNL['BeerConsumption']) \n",
    "dataNL['Nb_SummerDays'][-10:].corr(dataNL['BeerConsumption'][-10:]) \n",
    "dataNL['Hours_Sunshine'].corr(dataNL['BeerConsumption']) \n",
    "dataNL['Hours_Sunshine'][-10:].corr(dataNL['BeerConsumption'][-10:]) \n",
    "dataNL['Sunless_days'].corr(dataNL['BeerConsumption']) \n",
    "dataNL['Sunless_days'][-10:].corr(dataNL['BeerConsumption'][-10:]) "
   ]
  },
  {
   "cell_type": "code",
   "execution_count": null,
   "metadata": {},
   "outputs": [],
   "source": []
  },
  {
   "cell_type": "code",
   "execution_count": null,
   "metadata": {},
   "outputs": [],
   "source": []
  },
  {
   "cell_type": "code",
   "execution_count": null,
   "metadata": {},
   "outputs": [],
   "source": []
  },
  {
   "cell_type": "code",
   "execution_count": null,
   "metadata": {},
   "outputs": [],
   "source": []
  },
  {
   "cell_type": "code",
   "execution_count": null,
   "metadata": {},
   "outputs": [],
   "source": []
  }
 ],
 "metadata": {
  "kernelspec": {
   "display_name": "Python 3",
   "language": "python",
   "name": "python3"
  },
  "language_info": {
   "codemirror_mode": {
    "name": "ipython",
    "version": 3
   },
   "file_extension": ".py",
   "mimetype": "text/x-python",
   "name": "python",
   "nbconvert_exporter": "python",
   "pygments_lexer": "ipython3",
   "version": "3.9.0"
  }
 },
 "nbformat": 4,
 "nbformat_minor": 4
}
